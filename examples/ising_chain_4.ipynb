{
 "cells": [
  {
   "cell_type": "code",
   "execution_count": 1,
   "metadata": {},
   "outputs": [],
   "source": [
    "import numpy as np\n",
    "from scipy.linalg import norm\n",
    "from scipy.sparse.linalg import expm_multiply, expm\n",
    "\n",
    "from qiskit import QuantumCircuit, QuantumRegister\n",
    "from qiskit.circuit.library import PauliEvolutionGate\n",
    "from qiskit.quantum_info import SparsePauliOp, Statevector\n",
    "\n",
    "from qiskit_ibm_runtime import QiskitRuntimeService, Session\n",
    "from qiskit_ibm_runtime import Estimator \n",
    "\n",
    "from qiskit import transpile\n",
    "\n",
    "from qiskit.providers.fake_provider import FakeManilaV2\n",
    "from qiskit_aer import AerSimulator"
   ]
  },
  {
   "cell_type": "code",
   "execution_count": 2,
   "metadata": {},
   "outputs": [],
   "source": [
    "import sys\n",
    "import os\n",
    "parentdir = os.path.dirname(os.getcwd())\n",
    "sys.path.append(parentdir)"
   ]
  },
  {
   "cell_type": "code",
   "execution_count": 3,
   "metadata": {},
   "outputs": [],
   "source": [
    "try:\n",
    "    service = QiskitRuntimeService(channel=\"ibm_quantum\")\n",
    "except:\n",
    "    print(\"\\n ... Saving ibm_quantum account ... \\n\")\n",
    "\n",
    "    token = \"f9b97988a51c6d1b71630fc1699f80b6143d73c28ab066c1d6d32ac189848318614ffd2ac8c416599940cfe6307f5eea61d38be05a55942056c8a235f4275d73\"\n",
    "\n",
    "    QiskitRuntimeService.save_account(\n",
    "        channel=\"ibm_quantum\", instance=\"ibm-q/open/main\", token=(token), overwrite=True\n",
    "    )\n",
    "    service = QiskitRuntimeService(channel=\"ibm_quantum\")\n"
   ]
  },
  {
   "cell_type": "code",
   "execution_count": 4,
   "metadata": {},
   "outputs": [],
   "source": [
    "#backend = service.backend(\"ibm_brisbane\")\n",
    "backend = \"ibmq_qasm_simulator\"\n",
    "\n",
    "session = Session(service=service, backend=backend)\n",
    "\n",
    "estimator = Estimator(\n",
    "    session=session,\n",
    "    options={\n",
    "        \"resilience_level\": 1, # readout error mitigation\n",
    "        \"transpilation\": {\n",
    "            \"skip_transpilation\": True, # we have already transpiled our circuits\n",
    "        },\n",
    "    }\n",
    ")"
   ]
  },
  {
   "cell_type": "code",
   "execution_count": 5,
   "metadata": {},
   "outputs": [],
   "source": [
    "# definitions for circuit\n",
    "def get_H_op(N, J, h, pbc):\n",
    "    \"\"\"Define the two non-commuting parts of the Ising Hamiltonian separately.\"\"\"\n",
    "\n",
    "    z_op_strings = []\n",
    "    for j in range(0, N - 1, 2):\n",
    "        z_op_strings.append((N - 2 - j) * \"I\" + \"Z\" + \"Z\" + j * \"I\")\n",
    "    for j in range(1, N - 1, 2):\n",
    "        z_op_strings.append((N - 2 - j) * \"I\" + \"Z\" + \"Z\" + j * \"I\")\n",
    "    if pbc and N > 2:\n",
    "        z_op_strings.append(\"Z\" + (N - 2) * \"I\" + \"Z\")\n",
    "\n",
    "    x_op_strings = []\n",
    "    for i in range(N):\n",
    "        x_op_strings.append(((N - 1 - i) * \"I\" + \"X\" + i * \"I\"))\n",
    "\n",
    "    z_ops = SparsePauliOp(\n",
    "        data=z_op_strings, coeffs=[J] * (N if (pbc and N > 2) else N - 1)\n",
    "    )\n",
    "    x_ops = SparsePauliOp(data=x_op_strings, coeffs=[h] * N)\n",
    "\n",
    "    return z_ops, x_ops\n",
    "\n",
    "def trotter_circ(N, H_list, t_final, dt):\n",
    "    Nt = int(t_final / dt)\n",
    "    init_circ = QuantumCircuit(N)\n",
    "\n",
    "    # ZZ-gate\n",
    "    z_circ = PauliEvolutionGate(H_list[0], dt)\n",
    "    x_circ = PauliEvolutionGate(H_list[1], dt)\n",
    "\n",
    "    qreg = QuantumRegister(N)\n",
    "    evo_circ = QuantumCircuit(qreg)\n",
    "    evo_circ.append(init_circ, qreg)\n",
    "    for _ in range(Nt):\n",
    "        evo_circ.append(x_circ, qreg)\n",
    "        evo_circ.append(z_circ, qreg)\n",
    "\n",
    "    return evo_circ\n"
   ]
  },
  {
   "cell_type": "code",
   "execution_count": 6,
   "metadata": {},
   "outputs": [
    {
     "name": "stdout",
     "output_type": "stream",
     "text": [
      "H_Z =\n",
      "SparsePauliOp(['IIZZ', 'ZZII', 'IZZI'],\n",
      "              coeffs=[1.+0.j, 1.+0.j, 1.+0.j])\n",
      "H_X =\n",
      "SparsePauliOp(['IIIX', 'IIXI', 'IXII', 'XIII'],\n",
      "              coeffs=[0.7+0.j, 0.7+0.j, 0.7+0.j, 0.7+0.j])\n",
      "t = 0.4, #2q-gates=6, depth=29, 2q-depth=4\n",
      "t = 0.8, #2q-gates=12, depth=51, 2q-depth=8\n",
      "t = 1.2000000000000002, #2q-gates=18, depth=75, 2q-depth=12\n",
      "t = 1.6, #2q-gates=24, depth=99, 2q-depth=16\n",
      "t = 2.0, #2q-gates=30, depth=123, 2q-depth=20\n",
      "t = 2.4000000000000004, #2q-gates=36, depth=147, 2q-depth=24\n",
      "t = 2.8000000000000003, #2q-gates=42, depth=171, 2q-depth=28\n",
      "t = 3.2, #2q-gates=48, depth=195, 2q-depth=32\n",
      "t = 3.6, #2q-gates=54, depth=219, 2q-depth=36\n",
      "t = 4.0, #2q-gates=60, depth=243, 2q-depth=40\n"
     ]
    }
   ],
   "source": [
    "# Creating the actual circuit\n",
    "N = 4\n",
    "J = 1\n",
    "h = 0.7\n",
    "pbc = False\n",
    "\n",
    "t_final = 4\n",
    "Nt = 10\n",
    "dt = t_final / Nt\n",
    "t_eval = np.linspace(0, t_final, Nt + 1)\n",
    "\n",
    "# Our observable\n",
    "mag_ave = SparsePauliOp(\n",
    "    data=[((N - 1 - i) * \"I\" + \"Z\" + i * \"I\") for i in range(N)], coeffs=[1 / N] * N\n",
    ")\n",
    "\n",
    "initial_layout = [112, 126, 125, 124]  # physical qubits on the device\n",
    "assert(len(initial_layout) == N)\n",
    "shots = 10000\n",
    "\n",
    "z_ops, x_ops = get_H_op(N, J, h, pbc)\n",
    "H_op = z_ops + x_ops\n",
    "print(f\"H_Z =\\n{z_ops}\")\n",
    "print(f\"H_X =\\n{x_ops}\")\n",
    "\n",
    "\n",
    "# construct and transpile all Trotter circuits (for each time step)\n",
    "t_circs = []\n",
    "for t in t_eval:\n",
    "    evo_circ = trotter_circ(N, [z_ops, x_ops], t_final=t, dt=dt)\n",
    "    tc = transpile(\n",
    "        evo_circ,\n",
    "        backend = service.backend(\"ibm_brisbane\"),\n",
    "        initial_layout=initial_layout,\n",
    "        optimization_level=3,\n",
    "    )\n",
    "    if not t == 0:\n",
    "        print(\n",
    "            f\"t = {t}, \"\n",
    "            f\"#2q-gates={tc.count_ops()['ecr']}, \"\n",
    "            f\"depth={tc.depth()}, \"\n",
    "            f\"2q-depth={tc.depth(lambda circ_instruct: True if circ_instruct[0].name == 'ecr' else False)}\"\n",
    "        )\n",
    "\n",
    "    t_circs.append(tc)\n",
    "\n",
    "# transpile the observable to match the physical qubits\n",
    "t_obs = mag_ave.apply_layout(t_circs[0].layout)\n"
   ]
  },
  {
   "cell_type": "code",
   "execution_count": 7,
   "metadata": {},
   "outputs": [],
   "source": [
    "from qhub_client import QhubClient\n",
    "client = QhubClient()\n"
   ]
  },
  {
   "cell_type": "code",
   "execution_count": 8,
   "metadata": {},
   "outputs": [
    {
     "name": "stdout",
     "output_type": "stream",
     "text": [
      "Successfully created algorithm! \n",
      " Checkout your contribution at http://localhost:3000/algorithms/6598184d8886fe8f1be94b91\n",
      " \n"
     ]
    }
   ],
   "source": [
    "\n",
    "job = estimator.run(\n",
    "    circuits=t_circs,\n",
    "    observables=[t_obs] * len(t_circs),\n",
    "    shots=shots\n",
    ")\n",
    "\n",
    "client.benchmarq(job)\n",
    "\n",
    "print(\" \")\n",
    "\n",
    "# job.wait_for_final_state()\n",
    "# result = job.result()\n",
    "# print(\"Result: \", result)\n",
    "# print(\"Metrics: \", job.metrics())\n",
    "\n",
    "\n",
    "\n"
   ]
  },
  {
   "cell_type": "code",
   "execution_count": 9,
   "metadata": {},
   "outputs": [],
   "source": [
    "ja = job.backend()\n"
   ]
  },
  {
   "cell_type": "code",
   "execution_count": 10,
   "metadata": {},
   "outputs": [
    {
     "name": "stdout",
     "output_type": "stream",
     "text": [
      "Metrics:  {'timestamps': {'created': '2024-01-05T14:55:00.460778Z', 'finished': '2024-01-05T14:55:04.028262Z', 'running': '2024-01-05T14:55:00.526627Z'}, 'bss': {'seconds': 0}, 'usage': {'quantum_seconds': 0, 'seconds': 0}, 'executions': 0, 'num_circuits': 0, 'qiskit_version': 'qiskit_ibm_runtime-0.17.0,qiskit_terra-0.45.1,qiskit_aer-0.13.1*', 'caller': 'qiskit_ibm_runtime~estimator.py'}\n"
     ]
    }
   ],
   "source": [
    "print(\"Metrics: \", job.metrics())\n"
   ]
  }
 ],
 "metadata": {
  "kernelspec": {
   "display_name": ".venv",
   "language": "python",
   "name": "python3"
  },
  "language_info": {
   "codemirror_mode": {
    "name": "ipython",
    "version": 3
   },
   "file_extension": ".py",
   "mimetype": "text/x-python",
   "name": "python",
   "nbconvert_exporter": "python",
   "pygments_lexer": "ipython3",
   "version": "3.10.13"
  }
 },
 "nbformat": 4,
 "nbformat_minor": 2
}
